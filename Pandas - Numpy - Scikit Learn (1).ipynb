{
 "cells": [
  {
   "cell_type": "markdown",
   "id": "0116e0e0",
   "metadata": {},
   "source": [
    "Array Creation:\n",
    "--------------\n",
    "\n",
    "numpy.array(): Create an array from a Python list or tuple.\n",
    "    \n",
    "numpy.arange(): Create an array with regularly spaced values.\n",
    "    \n",
    "numpy.linspace(): Create an array with evenly spaced values over a specified range.\n",
    "\n",
    "numpy.zeros(): Create an array filled with zeros.\n",
    "\n",
    "numpy.ones(): Create an array filled with ones.\n",
    "\n",
    "numpy.eye(): Create an identity matrix.\n",
    "\n",
    "numpy.random.rand(), numpy.random.randn(): Generate random numbers.\n",
    "\n",
    "Array Manipulation:\n",
    "------------------\n",
    "\n",
    "\n",
    "numpy.reshape(): Reshape an array.\n",
    "\n",
    "numpy.concatenate(), numpy.vstack(), numpy.hstack(): Concatenate arrays.\n",
    "\n",
    "numpy.split(): Split an array into multiple sub-arrays.\n",
    "\n",
    "numpy.transpose(), numpy.T: Transpose an array.\n",
    "\n",
    "Mathematical Functions:\n",
    "-----------------------\n",
    "\n",
    "\n",
    "numpy.sum(), numpy.mean(), numpy.median(), numpy.std(): Basic statistical functions.\n",
    "\n",
    "\n",
    "numpy.min(), numpy.max(): Minimum and maximum values.\n",
    "\n",
    "numpy.absolute(), numpy.abs(): Absolute value.\n",
    "\n",
    "numpy.sqrt(), numpy.exp(), numpy.log(): Square root, exponential, and logarithmic functions.\n",
    "\n",
    "numpy.sin(), numpy.cos(), numpy.tan(): Trigonometric functions.\n",
    "\n",
    "numpy.around(), numpy.floor(), numpy.ceil(): Rounding functions.\n",
    "\n",
    "Linear Algebra:\n",
    "--------------\n",
    "\n",
    "\n",
    "numpy.dot(), numpy.matmul(): Matrix multiplication.\n",
    "\n",
    "numpy.linalg.inv(): Inverse of a matrix.\n",
    "\n",
    "numpy.linalg.det(): Determinant of a matrix.\n",
    "\n",
    "numpy.linalg.eig(): Eigenvalues and eigenvectors of a square matrix.\n",
    "\n",
    "numpy.linalg.solve(): Solve a system of linear equations.\n",
    "\n",
    "Array Iteration:\n",
    "----------------\n",
    "\n",
    "\n",
    "numpy.nditer(): Efficient multi-dimensional iterator object.\n",
    "\n",
    "Miscellaneous:\n",
    "-------------\n",
    "\n",
    "numpy.where(): Return elements chosen from two arrays based on a condition.\n",
    "\n",
    "numpy.unique(): Find unique elements in an array.\n",
    "\n",
    "numpy.argsort(): Return the indices that would sort an array.\n",
    "\n",
    "numpy.argmax(), numpy.argmin(): Return the indices of the maximum and minimum values."
   ]
  },
  {
   "cell_type": "code",
   "execution_count": 1,
   "id": "98ebdbe5",
   "metadata": {},
   "outputs": [],
   "source": [
    "import numpy as np\n",
    "import pandas as pd\n",
    "from numpy import random"
   ]
  },
  {
   "cell_type": "code",
   "execution_count": 2,
   "id": "7179c883",
   "metadata": {},
   "outputs": [
    {
     "data": {
      "text/plain": [
       "array([[ 54,  33,  19,  95],\n",
       "       [ 20,  77,  75,  54],\n",
       "       [  2,  39,  90,  94],\n",
       "       [100,  19,   4,  64],\n",
       "       [ 81,  26,  55,  21],\n",
       "       [ 47,  78,  46,  84],\n",
       "       [ 34,  80,  56,  80],\n",
       "       [ 46,  97,  34,  89],\n",
       "       [ 97,  96,   8,  29],\n",
       "       [ 89,  85,   6,  46]])"
      ]
     },
     "execution_count": 2,
     "metadata": {},
     "output_type": "execute_result"
    }
   ],
   "source": [
    "data=np.random.randint(1,101, size=(10,4))\n",
    "data"
   ]
  },
  {
   "cell_type": "code",
   "execution_count": 3,
   "id": "379bbe0f",
   "metadata": {},
   "outputs": [
    {
     "data": {
      "text/html": [
       "<div>\n",
       "<style scoped>\n",
       "    .dataframe tbody tr th:only-of-type {\n",
       "        vertical-align: middle;\n",
       "    }\n",
       "\n",
       "    .dataframe tbody tr th {\n",
       "        vertical-align: top;\n",
       "    }\n",
       "\n",
       "    .dataframe thead th {\n",
       "        text-align: right;\n",
       "    }\n",
       "</style>\n",
       "<table border=\"1\" class=\"dataframe\">\n",
       "  <thead>\n",
       "    <tr style=\"text-align: right;\">\n",
       "      <th></th>\n",
       "      <th>Alcohol</th>\n",
       "      <th>Malic_Acid</th>\n",
       "      <th>Ash</th>\n",
       "      <th>Ash_Alcanity</th>\n",
       "      <th>Magnesium</th>\n",
       "      <th>Total_Phenols</th>\n",
       "      <th>Flavanoids</th>\n",
       "      <th>Nonflavanoid_Phenols</th>\n",
       "      <th>Proanthocyanins</th>\n",
       "      <th>Color_Intensity</th>\n",
       "      <th>Hue</th>\n",
       "      <th>OD280</th>\n",
       "      <th>Proline</th>\n",
       "    </tr>\n",
       "  </thead>\n",
       "  <tbody>\n",
       "    <tr>\n",
       "      <th>0</th>\n",
       "      <td>14.23</td>\n",
       "      <td>1.71</td>\n",
       "      <td>2.43</td>\n",
       "      <td>15.6</td>\n",
       "      <td>127</td>\n",
       "      <td>2.80</td>\n",
       "      <td>3.06</td>\n",
       "      <td>0.28</td>\n",
       "      <td>2.29</td>\n",
       "      <td>5.64</td>\n",
       "      <td>1.04</td>\n",
       "      <td>3.92</td>\n",
       "      <td>1065</td>\n",
       "    </tr>\n",
       "    <tr>\n",
       "      <th>1</th>\n",
       "      <td>13.20</td>\n",
       "      <td>1.78</td>\n",
       "      <td>2.14</td>\n",
       "      <td>11.2</td>\n",
       "      <td>100</td>\n",
       "      <td>2.65</td>\n",
       "      <td>2.76</td>\n",
       "      <td>0.26</td>\n",
       "      <td>1.28</td>\n",
       "      <td>4.38</td>\n",
       "      <td>1.05</td>\n",
       "      <td>3.40</td>\n",
       "      <td>1050</td>\n",
       "    </tr>\n",
       "    <tr>\n",
       "      <th>2</th>\n",
       "      <td>13.16</td>\n",
       "      <td>2.36</td>\n",
       "      <td>2.67</td>\n",
       "      <td>18.6</td>\n",
       "      <td>101</td>\n",
       "      <td>2.80</td>\n",
       "      <td>3.24</td>\n",
       "      <td>0.30</td>\n",
       "      <td>2.81</td>\n",
       "      <td>5.68</td>\n",
       "      <td>1.03</td>\n",
       "      <td>3.17</td>\n",
       "      <td>1185</td>\n",
       "    </tr>\n",
       "    <tr>\n",
       "      <th>3</th>\n",
       "      <td>14.37</td>\n",
       "      <td>1.95</td>\n",
       "      <td>2.50</td>\n",
       "      <td>16.8</td>\n",
       "      <td>113</td>\n",
       "      <td>3.85</td>\n",
       "      <td>3.49</td>\n",
       "      <td>0.24</td>\n",
       "      <td>2.18</td>\n",
       "      <td>7.80</td>\n",
       "      <td>0.86</td>\n",
       "      <td>3.45</td>\n",
       "      <td>1480</td>\n",
       "    </tr>\n",
       "    <tr>\n",
       "      <th>4</th>\n",
       "      <td>13.24</td>\n",
       "      <td>2.59</td>\n",
       "      <td>2.87</td>\n",
       "      <td>21.0</td>\n",
       "      <td>118</td>\n",
       "      <td>2.80</td>\n",
       "      <td>2.69</td>\n",
       "      <td>0.39</td>\n",
       "      <td>1.82</td>\n",
       "      <td>4.32</td>\n",
       "      <td>1.04</td>\n",
       "      <td>2.93</td>\n",
       "      <td>735</td>\n",
       "    </tr>\n",
       "  </tbody>\n",
       "</table>\n",
       "</div>"
      ],
      "text/plain": [
       "   Alcohol  Malic_Acid   Ash  Ash_Alcanity  Magnesium  Total_Phenols  \\\n",
       "0    14.23        1.71  2.43          15.6        127           2.80   \n",
       "1    13.20        1.78  2.14          11.2        100           2.65   \n",
       "2    13.16        2.36  2.67          18.6        101           2.80   \n",
       "3    14.37        1.95  2.50          16.8        113           3.85   \n",
       "4    13.24        2.59  2.87          21.0        118           2.80   \n",
       "\n",
       "   Flavanoids  Nonflavanoid_Phenols  Proanthocyanins  Color_Intensity   Hue  \\\n",
       "0        3.06                  0.28             2.29             5.64  1.04   \n",
       "1        2.76                  0.26             1.28             4.38  1.05   \n",
       "2        3.24                  0.30             2.81             5.68  1.03   \n",
       "3        3.49                  0.24             2.18             7.80  0.86   \n",
       "4        2.69                  0.39             1.82             4.32  1.04   \n",
       "\n",
       "   OD280  Proline  \n",
       "0   3.92     1065  \n",
       "1   3.40     1050  \n",
       "2   3.17     1185  \n",
       "3   3.45     1480  \n",
       "4   2.93      735  "
      ]
     },
     "execution_count": 3,
     "metadata": {},
     "output_type": "execute_result"
    }
   ],
   "source": [
    "data1=pd.read_csv(\"D:\\Data Set\\wine-clustering.csv\")\n",
    "data1.head(5)"
   ]
  },
  {
   "cell_type": "code",
   "execution_count": 4,
   "id": "6d005776",
   "metadata": {},
   "outputs": [
    {
     "name": "stdout",
     "output_type": "stream",
     "text": [
      "<class 'pandas.core.frame.DataFrame'>\n",
      "RangeIndex: 178 entries, 0 to 177\n",
      "Data columns (total 13 columns):\n",
      " #   Column                Non-Null Count  Dtype  \n",
      "---  ------                --------------  -----  \n",
      " 0   Alcohol               178 non-null    float64\n",
      " 1   Malic_Acid            178 non-null    float64\n",
      " 2   Ash                   178 non-null    float64\n",
      " 3   Ash_Alcanity          178 non-null    float64\n",
      " 4   Magnesium             178 non-null    int64  \n",
      " 5   Total_Phenols         178 non-null    float64\n",
      " 6   Flavanoids            178 non-null    float64\n",
      " 7   Nonflavanoid_Phenols  178 non-null    float64\n",
      " 8   Proanthocyanins       178 non-null    float64\n",
      " 9   Color_Intensity       178 non-null    float64\n",
      " 10  Hue                   178 non-null    float64\n",
      " 11  OD280                 178 non-null    float64\n",
      " 12  Proline               178 non-null    int64  \n",
      "dtypes: float64(11), int64(2)\n",
      "memory usage: 18.2 KB\n"
     ]
    }
   ],
   "source": [
    "data1.info()"
   ]
  },
  {
   "cell_type": "code",
   "execution_count": 5,
   "id": "ee0fe713",
   "metadata": {},
   "outputs": [
    {
     "data": {
      "text/plain": [
       "Alcohol                 0\n",
       "Malic_Acid              0\n",
       "Ash                     0\n",
       "Ash_Alcanity            0\n",
       "Magnesium               0\n",
       "Total_Phenols           0\n",
       "Flavanoids              0\n",
       "Nonflavanoid_Phenols    0\n",
       "Proanthocyanins         0\n",
       "Color_Intensity         0\n",
       "Hue                     0\n",
       "OD280                   0\n",
       "Proline                 0\n",
       "dtype: int64"
      ]
     },
     "execution_count": 5,
     "metadata": {},
     "output_type": "execute_result"
    }
   ],
   "source": [
    "data1.isnull().sum()"
   ]
  },
  {
   "cell_type": "code",
   "execution_count": 6,
   "id": "22c51c3a",
   "metadata": {},
   "outputs": [],
   "source": [
    "df=data1.groupby('Alcohol')\n"
   ]
  },
  {
   "cell_type": "code",
   "execution_count": 7,
   "id": "9de44e9a",
   "metadata": {},
   "outputs": [
    {
     "data": {
      "text/plain": [
       "Alcohol\n",
       "11.03    2.20\n",
       "11.41    2.50\n",
       "11.45    2.42\n",
       "11.46    1.82\n",
       "11.56    3.23\n",
       "         ... \n",
       "14.37    2.50\n",
       "14.38    2.33\n",
       "14.39    2.45\n",
       "14.75    2.39\n",
       "14.83    2.17\n",
       "Name: Ash, Length: 126, dtype: float64"
      ]
     },
     "execution_count": 7,
     "metadata": {},
     "output_type": "execute_result"
    }
   ],
   "source": [
    "df['Ash'].aggregate(np.mean)"
   ]
  },
  {
   "cell_type": "code",
   "execution_count": 8,
   "id": "d4ac6f12",
   "metadata": {},
   "outputs": [
    {
     "data": {
      "text/plain": [
       "Alcohol\n",
       "11.03    2.20\n",
       "11.41    2.50\n",
       "11.45    2.42\n",
       "11.46    1.82\n",
       "11.56    3.23\n",
       "         ... \n",
       "14.37    2.50\n",
       "14.38    2.38\n",
       "14.39    2.45\n",
       "14.75    2.39\n",
       "14.83    2.17\n",
       "Name: Ash, Length: 126, dtype: float64"
      ]
     },
     "execution_count": 8,
     "metadata": {},
     "output_type": "execute_result"
    }
   ],
   "source": [
    "df['Ash'].max()"
   ]
  },
  {
   "cell_type": "code",
   "execution_count": 9,
   "id": "b34c0f96",
   "metadata": {},
   "outputs": [
    {
     "data": {
      "text/plain": [
       "Alcohol                 float64\n",
       "Malic_Acid              float64\n",
       "Ash                     float64\n",
       "Ash_Alcanity            float64\n",
       "Magnesium                 int64\n",
       "Total_Phenols           float64\n",
       "Flavanoids              float64\n",
       "Nonflavanoid_Phenols    float64\n",
       "Proanthocyanins         float64\n",
       "Color_Intensity         float64\n",
       "Hue                     float64\n",
       "OD280                   float64\n",
       "Proline                   int64\n",
       "dtype: object"
      ]
     },
     "execution_count": 9,
     "metadata": {},
     "output_type": "execute_result"
    }
   ],
   "source": [
    "data1.dtypes"
   ]
  },
  {
   "cell_type": "code",
   "execution_count": 10,
   "id": "8b3e110c",
   "metadata": {},
   "outputs": [
    {
     "data": {
      "text/html": [
       "<div>\n",
       "<style scoped>\n",
       "    .dataframe tbody tr th:only-of-type {\n",
       "        vertical-align: middle;\n",
       "    }\n",
       "\n",
       "    .dataframe tbody tr th {\n",
       "        vertical-align: top;\n",
       "    }\n",
       "\n",
       "    .dataframe thead th {\n",
       "        text-align: right;\n",
       "    }\n",
       "</style>\n",
       "<table border=\"1\" class=\"dataframe\">\n",
       "  <thead>\n",
       "    <tr style=\"text-align: right;\">\n",
       "      <th></th>\n",
       "      <th>Ash</th>\n",
       "      <th>Ash_Alcanity</th>\n",
       "    </tr>\n",
       "  </thead>\n",
       "  <tbody>\n",
       "    <tr>\n",
       "      <th>0</th>\n",
       "      <td>2.43</td>\n",
       "      <td>15.6</td>\n",
       "    </tr>\n",
       "    <tr>\n",
       "      <th>1</th>\n",
       "      <td>2.14</td>\n",
       "      <td>11.2</td>\n",
       "    </tr>\n",
       "    <tr>\n",
       "      <th>2</th>\n",
       "      <td>2.67</td>\n",
       "      <td>18.6</td>\n",
       "    </tr>\n",
       "    <tr>\n",
       "      <th>3</th>\n",
       "      <td>2.50</td>\n",
       "      <td>16.8</td>\n",
       "    </tr>\n",
       "    <tr>\n",
       "      <th>4</th>\n",
       "      <td>2.87</td>\n",
       "      <td>21.0</td>\n",
       "    </tr>\n",
       "    <tr>\n",
       "      <th>...</th>\n",
       "      <td>...</td>\n",
       "      <td>...</td>\n",
       "    </tr>\n",
       "    <tr>\n",
       "      <th>173</th>\n",
       "      <td>2.45</td>\n",
       "      <td>20.5</td>\n",
       "    </tr>\n",
       "    <tr>\n",
       "      <th>174</th>\n",
       "      <td>2.48</td>\n",
       "      <td>23.0</td>\n",
       "    </tr>\n",
       "    <tr>\n",
       "      <th>175</th>\n",
       "      <td>2.26</td>\n",
       "      <td>20.0</td>\n",
       "    </tr>\n",
       "    <tr>\n",
       "      <th>176</th>\n",
       "      <td>2.37</td>\n",
       "      <td>20.0</td>\n",
       "    </tr>\n",
       "    <tr>\n",
       "      <th>177</th>\n",
       "      <td>2.74</td>\n",
       "      <td>24.5</td>\n",
       "    </tr>\n",
       "  </tbody>\n",
       "</table>\n",
       "<p>178 rows × 2 columns</p>\n",
       "</div>"
      ],
      "text/plain": [
       "      Ash  Ash_Alcanity\n",
       "0    2.43          15.6\n",
       "1    2.14          11.2\n",
       "2    2.67          18.6\n",
       "3    2.50          16.8\n",
       "4    2.87          21.0\n",
       "..    ...           ...\n",
       "173  2.45          20.5\n",
       "174  2.48          23.0\n",
       "175  2.26          20.0\n",
       "176  2.37          20.0\n",
       "177  2.74          24.5\n",
       "\n",
       "[178 rows x 2 columns]"
      ]
     },
     "execution_count": 10,
     "metadata": {},
     "output_type": "execute_result"
    }
   ],
   "source": [
    "filter_col=data1.filter(like='Ash')\n",
    "filter_col"
   ]
  },
  {
   "cell_type": "code",
   "execution_count": 11,
   "id": "15acfa01",
   "metadata": {},
   "outputs": [
    {
     "data": {
      "text/html": [
       "<div>\n",
       "<style scoped>\n",
       "    .dataframe tbody tr th:only-of-type {\n",
       "        vertical-align: middle;\n",
       "    }\n",
       "\n",
       "    .dataframe tbody tr th {\n",
       "        vertical-align: top;\n",
       "    }\n",
       "\n",
       "    .dataframe thead th {\n",
       "        text-align: right;\n",
       "    }\n",
       "</style>\n",
       "<table border=\"1\" class=\"dataframe\">\n",
       "  <thead>\n",
       "    <tr style=\"text-align: right;\">\n",
       "      <th></th>\n",
       "      <th>Alcohol</th>\n",
       "      <th>Malic_Acid</th>\n",
       "      <th>Ash</th>\n",
       "      <th>Ash_Alcanity</th>\n",
       "      <th>Magnesium</th>\n",
       "      <th>Total_Phenols</th>\n",
       "      <th>Flavanoids</th>\n",
       "      <th>Nonflavanoid_Phenols</th>\n",
       "      <th>Proanthocyanins</th>\n",
       "      <th>Color_Intensity</th>\n",
       "      <th>Hue</th>\n",
       "      <th>OD280</th>\n",
       "      <th>Proline</th>\n",
       "    </tr>\n",
       "  </thead>\n",
       "  <tbody>\n",
       "    <tr>\n",
       "      <th>115</th>\n",
       "      <td>11.03</td>\n",
       "      <td>1.51</td>\n",
       "      <td>2.20</td>\n",
       "      <td>21.5</td>\n",
       "      <td>85</td>\n",
       "      <td>2.46</td>\n",
       "      <td>2.17</td>\n",
       "      <td>0.52</td>\n",
       "      <td>2.01</td>\n",
       "      <td>1.90</td>\n",
       "      <td>1.71</td>\n",
       "      <td>2.87</td>\n",
       "      <td>407</td>\n",
       "    </tr>\n",
       "    <tr>\n",
       "      <th>113</th>\n",
       "      <td>11.41</td>\n",
       "      <td>0.74</td>\n",
       "      <td>2.50</td>\n",
       "      <td>21.0</td>\n",
       "      <td>88</td>\n",
       "      <td>2.48</td>\n",
       "      <td>2.01</td>\n",
       "      <td>0.42</td>\n",
       "      <td>1.44</td>\n",
       "      <td>3.08</td>\n",
       "      <td>1.10</td>\n",
       "      <td>2.31</td>\n",
       "      <td>434</td>\n",
       "    </tr>\n",
       "    <tr>\n",
       "      <th>120</th>\n",
       "      <td>11.45</td>\n",
       "      <td>2.40</td>\n",
       "      <td>2.42</td>\n",
       "      <td>20.0</td>\n",
       "      <td>96</td>\n",
       "      <td>2.90</td>\n",
       "      <td>2.79</td>\n",
       "      <td>0.32</td>\n",
       "      <td>1.83</td>\n",
       "      <td>3.25</td>\n",
       "      <td>0.80</td>\n",
       "      <td>3.39</td>\n",
       "      <td>625</td>\n",
       "    </tr>\n",
       "  </tbody>\n",
       "</table>\n",
       "</div>"
      ],
      "text/plain": [
       "     Alcohol  Malic_Acid   Ash  Ash_Alcanity  Magnesium  Total_Phenols  \\\n",
       "115    11.03        1.51  2.20          21.5         85           2.46   \n",
       "113    11.41        0.74  2.50          21.0         88           2.48   \n",
       "120    11.45        2.40  2.42          20.0         96           2.90   \n",
       "\n",
       "     Flavanoids  Nonflavanoid_Phenols  Proanthocyanins  Color_Intensity   Hue  \\\n",
       "115        2.17                  0.52             2.01             1.90  1.71   \n",
       "113        2.01                  0.42             1.44             3.08  1.10   \n",
       "120        2.79                  0.32             1.83             3.25  0.80   \n",
       "\n",
       "     OD280  Proline  \n",
       "115   2.87      407  \n",
       "113   2.31      434  \n",
       "120   3.39      625  "
      ]
     },
     "execution_count": 11,
     "metadata": {},
     "output_type": "execute_result"
    }
   ],
   "source": [
    "data1.nsmallest(n=3,columns='Alcohol')"
   ]
  },
  {
   "cell_type": "code",
   "execution_count": 12,
   "id": "7e946f7d",
   "metadata": {},
   "outputs": [
    {
     "data": {
      "text/plain": [
       "(178, 13)"
      ]
     },
     "execution_count": 12,
     "metadata": {},
     "output_type": "execute_result"
    }
   ],
   "source": [
    "data1.shape"
   ]
  },
  {
   "cell_type": "code",
   "execution_count": 13,
   "id": "ef79aa73",
   "metadata": {},
   "outputs": [
    {
     "data": {
      "text/html": [
       "<div>\n",
       "<style scoped>\n",
       "    .dataframe tbody tr th:only-of-type {\n",
       "        vertical-align: middle;\n",
       "    }\n",
       "\n",
       "    .dataframe tbody tr th {\n",
       "        vertical-align: top;\n",
       "    }\n",
       "\n",
       "    .dataframe thead th {\n",
       "        text-align: right;\n",
       "    }\n",
       "</style>\n",
       "<table border=\"1\" class=\"dataframe\">\n",
       "  <thead>\n",
       "    <tr style=\"text-align: right;\">\n",
       "      <th></th>\n",
       "      <th>Alcohol</th>\n",
       "      <th>Ash</th>\n",
       "      <th>Malic_Acid</th>\n",
       "    </tr>\n",
       "  </thead>\n",
       "  <tbody>\n",
       "    <tr>\n",
       "      <th>0</th>\n",
       "      <td>14.23</td>\n",
       "      <td>2.43</td>\n",
       "      <td>1.71</td>\n",
       "    </tr>\n",
       "    <tr>\n",
       "      <th>1</th>\n",
       "      <td>13.20</td>\n",
       "      <td>2.14</td>\n",
       "      <td>1.78</td>\n",
       "    </tr>\n",
       "    <tr>\n",
       "      <th>2</th>\n",
       "      <td>13.16</td>\n",
       "      <td>2.67</td>\n",
       "      <td>2.36</td>\n",
       "    </tr>\n",
       "    <tr>\n",
       "      <th>3</th>\n",
       "      <td>14.37</td>\n",
       "      <td>2.50</td>\n",
       "      <td>1.95</td>\n",
       "    </tr>\n",
       "    <tr>\n",
       "      <th>4</th>\n",
       "      <td>13.24</td>\n",
       "      <td>2.87</td>\n",
       "      <td>2.59</td>\n",
       "    </tr>\n",
       "    <tr>\n",
       "      <th>...</th>\n",
       "      <td>...</td>\n",
       "      <td>...</td>\n",
       "      <td>...</td>\n",
       "    </tr>\n",
       "    <tr>\n",
       "      <th>173</th>\n",
       "      <td>13.71</td>\n",
       "      <td>2.45</td>\n",
       "      <td>5.65</td>\n",
       "    </tr>\n",
       "    <tr>\n",
       "      <th>174</th>\n",
       "      <td>13.40</td>\n",
       "      <td>2.48</td>\n",
       "      <td>3.91</td>\n",
       "    </tr>\n",
       "    <tr>\n",
       "      <th>175</th>\n",
       "      <td>13.27</td>\n",
       "      <td>2.26</td>\n",
       "      <td>4.28</td>\n",
       "    </tr>\n",
       "    <tr>\n",
       "      <th>176</th>\n",
       "      <td>13.17</td>\n",
       "      <td>2.37</td>\n",
       "      <td>2.59</td>\n",
       "    </tr>\n",
       "    <tr>\n",
       "      <th>177</th>\n",
       "      <td>14.13</td>\n",
       "      <td>2.74</td>\n",
       "      <td>4.10</td>\n",
       "    </tr>\n",
       "  </tbody>\n",
       "</table>\n",
       "<p>178 rows × 3 columns</p>\n",
       "</div>"
      ],
      "text/plain": [
       "     Alcohol   Ash  Malic_Acid\n",
       "0      14.23  2.43        1.71\n",
       "1      13.20  2.14        1.78\n",
       "2      13.16  2.67        2.36\n",
       "3      14.37  2.50        1.95\n",
       "4      13.24  2.87        2.59\n",
       "..       ...   ...         ...\n",
       "173    13.71  2.45        5.65\n",
       "174    13.40  2.48        3.91\n",
       "175    13.27  2.26        4.28\n",
       "176    13.17  2.37        2.59\n",
       "177    14.13  2.74        4.10\n",
       "\n",
       "[178 rows x 3 columns]"
      ]
     },
     "execution_count": 13,
     "metadata": {},
     "output_type": "execute_result"
    }
   ],
   "source": [
    "d=data1[['Alcohol','Ash','Malic_Acid']]\n",
    "d"
   ]
  },
  {
   "cell_type": "code",
   "execution_count": 14,
   "id": "4b57b831",
   "metadata": {},
   "outputs": [
    {
     "data": {
      "text/plain": [
       "array([0.81785648, 0.17689624, 0.99895797, 0.80587876, 0.62437358])"
      ]
     },
     "execution_count": 14,
     "metadata": {},
     "output_type": "execute_result"
    }
   ],
   "source": [
    "uniform = np.random.uniform(low=0,high=1,size=(5,))\n",
    "uniform"
   ]
  },
  {
   "cell_type": "code",
   "execution_count": 15,
   "id": "951ac943",
   "metadata": {},
   "outputs": [
    {
     "data": {
      "text/plain": [
       "array([[1, 2, 3],\n",
       "       [4, 5, 6],\n",
       "       [7, 8, 9]])"
      ]
     },
     "execution_count": 15,
     "metadata": {},
     "output_type": "execute_result"
    }
   ],
   "source": [
    "a=np.array([[1,2,3],[4,5,6],[7,8,9]])\n",
    "a"
   ]
  },
  {
   "cell_type": "code",
   "execution_count": 16,
   "id": "47dcf8f2",
   "metadata": {},
   "outputs": [
    {
     "data": {
      "text/plain": [
       "array([[9, 8, 7],\n",
       "       [6, 5, 4],\n",
       "       [3, 2, 1]])"
      ]
     },
     "execution_count": 16,
     "metadata": {},
     "output_type": "execute_result"
    }
   ],
   "source": [
    "b=np.array([[9,8,7],[6,5,4],[3,2,1]])\n",
    "b"
   ]
  },
  {
   "cell_type": "code",
   "execution_count": 17,
   "id": "cfca403f",
   "metadata": {},
   "outputs": [
    {
     "data": {
      "text/plain": [
       "array([[1, 2, 3, 9, 8, 7],\n",
       "       [4, 5, 6, 6, 5, 4],\n",
       "       [7, 8, 9, 3, 2, 1]])"
      ]
     },
     "execution_count": 17,
     "metadata": {},
     "output_type": "execute_result"
    }
   ],
   "source": [
    "c=np.hstack((a,b))\n",
    "c"
   ]
  },
  {
   "cell_type": "code",
   "execution_count": 18,
   "id": "9a95286f",
   "metadata": {},
   "outputs": [
    {
     "data": {
      "text/plain": [
       "array([1.        , 1.44444444, 1.88888889, 2.33333333, 2.77777778,\n",
       "       3.22222222, 3.66666667, 4.11111111, 4.55555556, 5.        ])"
      ]
     },
     "execution_count": 18,
     "metadata": {},
     "output_type": "execute_result"
    }
   ],
   "source": [
    "arr=np.linspace(1,5,num=10)\n",
    "arr"
   ]
  },
  {
   "cell_type": "code",
   "execution_count": 19,
   "id": "c80e5629",
   "metadata": {},
   "outputs": [
    {
     "data": {
      "text/plain": [
       "array([[ 30,  24,  18],\n",
       "       [ 84,  69,  54],\n",
       "       [138, 114,  90]])"
      ]
     },
     "execution_count": 19,
     "metadata": {},
     "output_type": "execute_result"
    }
   ],
   "source": [
    "d=a.dot(b)\n",
    "d"
   ]
  },
  {
   "cell_type": "code",
   "execution_count": 20,
   "id": "ee49665c",
   "metadata": {},
   "outputs": [
    {
     "data": {
      "text/plain": [
       "array([[ 30,  24,  18],\n",
       "       [ 84,  69,  54],\n",
       "       [138, 114,  90]])"
      ]
     },
     "execution_count": 20,
     "metadata": {},
     "output_type": "execute_result"
    }
   ],
   "source": [
    "f=a@b\n",
    "f"
   ]
  },
  {
   "cell_type": "code",
   "execution_count": 21,
   "id": "d9577672",
   "metadata": {},
   "outputs": [
    {
     "data": {
      "text/plain": [
       "array([1, 3, 5, 7, 9])"
      ]
     },
     "execution_count": 21,
     "metadata": {},
     "output_type": "execute_result"
    }
   ],
   "source": [
    "g=np.arange(1,10,2)\n",
    "g"
   ]
  },
  {
   "cell_type": "code",
   "execution_count": 22,
   "id": "854ea3ee",
   "metadata": {},
   "outputs": [
    {
     "data": {
      "text/plain": [
       "[array([[1, 2, 3]]), array([[4, 5, 6]]), array([[7, 8, 9]])]"
      ]
     },
     "execution_count": 22,
     "metadata": {},
     "output_type": "execute_result"
    }
   ],
   "source": [
    "h=np.split(a,3)\n",
    "h"
   ]
  },
  {
   "cell_type": "code",
   "execution_count": null,
   "id": "ddbafdff",
   "metadata": {},
   "outputs": [],
   "source": []
  },
  {
   "cell_type": "code",
   "execution_count": null,
   "id": "f919bfcb",
   "metadata": {},
   "outputs": [],
   "source": []
  },
  {
   "cell_type": "markdown",
   "id": "7e65d22e",
   "metadata": {},
   "source": [
    "Data Input/Output:\n",
    "---------------------------------\n",
    "\n",
    "pd.read_csv(): Read data from a CSV file into a DataFrame.\n",
    "\n",
    "pd.read_excel(): Read data from an Excel file into a DataFrame.\n",
    "\n",
    "pd.read_json(): Read data from a JSON file into a DataFrame.\n",
    "\n",
    "pd.read_sql(): Read data from a SQL database into a DataFrame.\n",
    "\n",
    "DataFrame.to_csv(): Write DataFrame to a CSV file.\n",
    "\n",
    "DataFrame.to_excel(): Write DataFrame to an Excel file.\n",
    "\n",
    "DataFrame.to_json(): Write DataFrame to a JSON file.\n",
    "\n",
    "DataFrame.to_sql(): Write DataFrame to a SQL database.\n",
    "\n",
    "Data Exploration:\n",
    "-----------------\n",
    "\n",
    "DataFrame.head(), DataFrame.tail(): View the first/last few rows of the DataFrame.\n",
    "\n",
    "DataFrame.info(): Get information about the DataFrame, such as data types and null values.\n",
    "\n",
    "DataFrame.describe(): Generate descriptive statistics summary of the DataFrame.\n",
    "\n",
    "DataFrame.shape: Get the dimensions of the DataFrame (rows, columns).\n",
    "\n",
    "DataFrame.columns: Get the column names of the DataFrame.\n",
    "\n",
    "DataFrame.index: Get the row indices of the DataFrame.\n",
    "\n",
    "Data Selection and Filtering:\n",
    "---------------------------\n",
    "\n",
    "\n",
    "DataFrame.loc[]: Access a group of rows and columns by labels.\n",
    "\n",
    "DataFrame.iloc[]: Access a group of rows and columns by integer position.\n",
    "\n",
    "DataFrame[...]: Select columns or filter rows based on conditions.\n",
    "\n",
    "Data Manipulation:\n",
    "-----------------\n",
    "\n",
    "\n",
    "DataFrame.drop(): Drop specified labels from rows or columns.\n",
    "\n",
    "DataFrame.rename(): Rename columns or indices.\n",
    "\n",
    "DataFrame.sort_values(): Sort DataFrame by values along a specific axis.\n",
    "\n",
    "DataFrame.groupby(): Group DataFrame using a mapper or by a Series of columns.\n",
    "\n",
    "DataFrame.merge(): Merge DataFrame objects by performing a database-style join operation.\n",
    "\n",
    "Missing Data Handling:\n",
    "---------------------\n",
    "\n",
    "\n",
    "DataFrame.dropna(): Drop missing values from DataFrame.\n",
    "\n",
    "DataFrame.fillna(): Fill missing values in DataFrame with a specified value or method.\n",
    "\n",
    "DataFrame.isna(), DataFrame.isnull(): Check for missing values.\n",
    "\n",
    "Statistical and Mathematical Functions:\n",
    "---------------------------------------\n",
    "\n",
    "\n",
    "DataFrame.mean(), DataFrame.median(), DataFrame.sum(), DataFrame.std(): Calculate descriptive statistics.\n",
    "\n",
    "DataFrame.apply(): Apply a function along an axis of the DataFrame.\n",
    "\n",
    "DataFrame.min(), DataFrame.max(): Find minimum and maximum values.\n",
    "\n",
    "DataFrame.unique(), DataFrame.value_counts(): Find unique values and their counts.\n",
    "\n",
    "Visualization:\n",
    "-------------\n",
    "\n",
    "\n",
    "DataFrame.plot(): Create various types of plots using matplotlib."
   ]
  },
  {
   "cell_type": "code",
   "execution_count": null,
   "id": "658995c2",
   "metadata": {},
   "outputs": [],
   "source": []
  },
  {
   "cell_type": "code",
   "execution_count": null,
   "id": "c671d056",
   "metadata": {},
   "outputs": [],
   "source": [
    "\n"
   ]
  },
  {
   "cell_type": "code",
   "execution_count": null,
   "id": "3ded2209",
   "metadata": {},
   "outputs": [],
   "source": []
  },
  {
   "cell_type": "markdown",
   "id": "228ad5b8",
   "metadata": {},
   "source": [
    "Data Preprocessing:\n",
    "------------------\n",
    "    \n",
    "\n",
    "sklearn.preprocessing: Module for data preprocessing techniques such as scaling, encoding categorical variables, and imputation of missing values.\n",
    "\n",
    "sklearn.model_selection.train_test_split(): Split dataset into training and testing sets.\n",
    "\n",
    "Feature Extraction and Selection:\n",
    "--------------------------------\n",
    "\n",
    "\n",
    "sklearn.feature_extraction: Module for feature extraction techniques such as text vectorization (e.g., CountVectorizer, TfidfVectorizer).\n",
    "\n",
    "sklearn.feature_selection: Module for feature selection techniques.\n",
    "\n",
    "Model Selection and Evaluation:\n",
    "-------------------------------\n",
    "\n",
    "\n",
    "\n",
    "sklearn.model_selection.cross_val_score(): Evaluate a model using cross-validation.\n",
    "\n",
    "sklearn.model_selection.GridSearchCV(): Search for the best hyperparameters using grid search and cross-validation.\n",
    "\n",
    "sklearn.metrics: Module for various evaluation metrics such as accuracy, precision, recall, F1-score, ROC-AUC, etc.\n",
    "\n",
    "Supervised Learning Algorithms:\n",
    "------------------------------\n",
    "\n",
    "\n",
    "\n",
    "sklearn.linear_model: Module for linear models such as Linear Regression, Logistic Regression, Ridge Regression, Lasso Regression, etc.\n",
    "\n",
    "sklearn.tree: Module for decision tree-based algorithms such as DecisionTreeClassifier, DecisionTreeRegressor, etc.\n",
    "\n",
    "sklearn.ensemble: Module for ensemble methods such as Random Forest, Gradient Boosting, AdaBoost, etc.\n",
    "\n",
    "sklearn.svm: Module for Support Vector Machine algorithms.\n",
    "\n",
    "sklearn.neighbors: Module for k-Nearest Neighbors algorithm.\n",
    "\n",
    "Unsupervised Learning Algorithms:\n",
    "----------------------------------\n",
    "\n",
    "\n",
    "\n",
    "sklearn.cluster: Module for clustering algorithms such as KMeans, DBSCAN, Hierarchical clustering, etc.\n",
    "\n",
    "sklearn.decomposition: Module for dimensionality reduction techniques such as PCA, NMF, LDA, etc.\n",
    "\n",
    "Neural Network Models:\n",
    "---------------------\n",
    "\n",
    "\n",
    "\n",
    "sklearn.neural_network: Module for basic neural network models.\n",
    "\n",
    "Pipeline and FeatureUnion:\n",
    "-------------------------\n",
    "\n",
    "\n",
    "\n",
    "sklearn.pipeline: Module for constructing pipelines to chain multiple estimators together.\n",
    "\n",
    "sklearn.pipeline.FeatureUnion: Combine multiple feature extraction methods into a single transformer.\n",
    "\n",
    "Model Persistence:\n",
    "-----------------\n",
    "\n",
    "sklearn.externals.joblib: Module for saving and loading scikit-learn models."
   ]
  },
  {
   "cell_type": "code",
   "execution_count": 23,
   "id": "cf5515ae",
   "metadata": {},
   "outputs": [
    {
     "data": {
      "text/plain": [
       "array([[55.31153653, 72.1990915 , 34.6533873 , 45.02073142, 98.06107857,\n",
       "        19.69362594, 79.55638617, 15.85148335,  9.12007659, 11.87331879],\n",
       "       [41.65519839, 94.59575942, 85.27183389,  3.72166711, 39.18221518,\n",
       "        19.48210392, 47.92581027, 42.70552399, 74.31774869, 49.37934229],\n",
       "       [51.61262958, 43.94437741, 32.03496935, 43.14837163, 79.38222382,\n",
       "        13.59110797, 76.53294425,  2.71407477, 29.35570131,  5.56512607],\n",
       "       [13.6171984 , 66.89676857,  9.38884709, 42.78693388, 64.44824788,\n",
       "        44.71950234, 86.99538062, 33.67711847, 10.48061016, 98.81773521],\n",
       "       [88.71977723, 17.93970847, 16.4460728 , 34.86088114, 54.07331665,\n",
       "        57.9836095 , 42.86879434, 21.83687411, 77.55675895, 46.22494813],\n",
       "       [48.07768638, 84.01482759, 22.32854244, 73.31478285,  2.32735283,\n",
       "        74.21931306, 81.62136568, 72.12523924, 98.19273288, 82.53602154],\n",
       "       [61.63938107, 87.68617686, 31.42910098, 53.55366069, 13.07903227,\n",
       "        56.34990102, 77.87431144, 85.15055221, 68.47526839,  1.35634209],\n",
       "       [53.90758912, 32.70453062, 71.75681874, 59.1532801 , 57.57413764,\n",
       "        73.43608275, 85.10366058, 43.31880671, 18.6352654 , 66.58720194],\n",
       "       [38.86348818, 72.43035318, 61.27060465, 47.43991603, 57.3930081 ,\n",
       "         5.76810101, 28.73697318, 65.73315439,  2.27050297, 23.1403863 ],\n",
       "       [88.11031333, 69.39209155,  3.72409549, 93.37202216, 70.25668076,\n",
       "        27.87440325, 72.5532932 , 35.52109762, 41.02807441, 11.72935659]])"
      ]
     },
     "execution_count": 23,
     "metadata": {},
     "output_type": "execute_result"
    }
   ],
   "source": [
    "new=np.random.uniform(1,101,size=(10,10))\n",
    "new"
   ]
  },
  {
   "cell_type": "code",
   "execution_count": 24,
   "id": "63bde515",
   "metadata": {},
   "outputs": [
    {
     "data": {
      "text/html": [
       "<div>\n",
       "<style scoped>\n",
       "    .dataframe tbody tr th:only-of-type {\n",
       "        vertical-align: middle;\n",
       "    }\n",
       "\n",
       "    .dataframe tbody tr th {\n",
       "        vertical-align: top;\n",
       "    }\n",
       "\n",
       "    .dataframe thead th {\n",
       "        text-align: right;\n",
       "    }\n",
       "</style>\n",
       "<table border=\"1\" class=\"dataframe\">\n",
       "  <thead>\n",
       "    <tr style=\"text-align: right;\">\n",
       "      <th></th>\n",
       "      <th>0</th>\n",
       "      <th>1</th>\n",
       "      <th>2</th>\n",
       "      <th>3</th>\n",
       "      <th>4</th>\n",
       "      <th>5</th>\n",
       "      <th>6</th>\n",
       "      <th>7</th>\n",
       "      <th>8</th>\n",
       "      <th>9</th>\n",
       "    </tr>\n",
       "  </thead>\n",
       "  <tbody>\n",
       "    <tr>\n",
       "      <th>0</th>\n",
       "      <td>55.311537</td>\n",
       "      <td>72.199092</td>\n",
       "      <td>34.653387</td>\n",
       "      <td>45.020731</td>\n",
       "      <td>98.061079</td>\n",
       "      <td>19.693626</td>\n",
       "      <td>79.556386</td>\n",
       "      <td>15.851483</td>\n",
       "      <td>9.120077</td>\n",
       "      <td>11.873319</td>\n",
       "    </tr>\n",
       "    <tr>\n",
       "      <th>1</th>\n",
       "      <td>41.655198</td>\n",
       "      <td>94.595759</td>\n",
       "      <td>85.271834</td>\n",
       "      <td>3.721667</td>\n",
       "      <td>39.182215</td>\n",
       "      <td>19.482104</td>\n",
       "      <td>47.925810</td>\n",
       "      <td>42.705524</td>\n",
       "      <td>74.317749</td>\n",
       "      <td>49.379342</td>\n",
       "    </tr>\n",
       "    <tr>\n",
       "      <th>2</th>\n",
       "      <td>51.612630</td>\n",
       "      <td>43.944377</td>\n",
       "      <td>32.034969</td>\n",
       "      <td>43.148372</td>\n",
       "      <td>79.382224</td>\n",
       "      <td>13.591108</td>\n",
       "      <td>76.532944</td>\n",
       "      <td>2.714075</td>\n",
       "      <td>29.355701</td>\n",
       "      <td>5.565126</td>\n",
       "    </tr>\n",
       "    <tr>\n",
       "      <th>3</th>\n",
       "      <td>13.617198</td>\n",
       "      <td>66.896769</td>\n",
       "      <td>9.388847</td>\n",
       "      <td>42.786934</td>\n",
       "      <td>64.448248</td>\n",
       "      <td>44.719502</td>\n",
       "      <td>86.995381</td>\n",
       "      <td>33.677118</td>\n",
       "      <td>10.480610</td>\n",
       "      <td>98.817735</td>\n",
       "    </tr>\n",
       "    <tr>\n",
       "      <th>4</th>\n",
       "      <td>88.719777</td>\n",
       "      <td>17.939708</td>\n",
       "      <td>16.446073</td>\n",
       "      <td>34.860881</td>\n",
       "      <td>54.073317</td>\n",
       "      <td>57.983609</td>\n",
       "      <td>42.868794</td>\n",
       "      <td>21.836874</td>\n",
       "      <td>77.556759</td>\n",
       "      <td>46.224948</td>\n",
       "    </tr>\n",
       "    <tr>\n",
       "      <th>5</th>\n",
       "      <td>48.077686</td>\n",
       "      <td>84.014828</td>\n",
       "      <td>22.328542</td>\n",
       "      <td>73.314783</td>\n",
       "      <td>2.327353</td>\n",
       "      <td>74.219313</td>\n",
       "      <td>81.621366</td>\n",
       "      <td>72.125239</td>\n",
       "      <td>98.192733</td>\n",
       "      <td>82.536022</td>\n",
       "    </tr>\n",
       "    <tr>\n",
       "      <th>6</th>\n",
       "      <td>61.639381</td>\n",
       "      <td>87.686177</td>\n",
       "      <td>31.429101</td>\n",
       "      <td>53.553661</td>\n",
       "      <td>13.079032</td>\n",
       "      <td>56.349901</td>\n",
       "      <td>77.874311</td>\n",
       "      <td>85.150552</td>\n",
       "      <td>68.475268</td>\n",
       "      <td>1.356342</td>\n",
       "    </tr>\n",
       "    <tr>\n",
       "      <th>7</th>\n",
       "      <td>53.907589</td>\n",
       "      <td>32.704531</td>\n",
       "      <td>71.756819</td>\n",
       "      <td>59.153280</td>\n",
       "      <td>57.574138</td>\n",
       "      <td>73.436083</td>\n",
       "      <td>85.103661</td>\n",
       "      <td>43.318807</td>\n",
       "      <td>18.635265</td>\n",
       "      <td>66.587202</td>\n",
       "    </tr>\n",
       "    <tr>\n",
       "      <th>8</th>\n",
       "      <td>38.863488</td>\n",
       "      <td>72.430353</td>\n",
       "      <td>61.270605</td>\n",
       "      <td>47.439916</td>\n",
       "      <td>57.393008</td>\n",
       "      <td>5.768101</td>\n",
       "      <td>28.736973</td>\n",
       "      <td>65.733154</td>\n",
       "      <td>2.270503</td>\n",
       "      <td>23.140386</td>\n",
       "    </tr>\n",
       "    <tr>\n",
       "      <th>9</th>\n",
       "      <td>88.110313</td>\n",
       "      <td>69.392092</td>\n",
       "      <td>3.724095</td>\n",
       "      <td>93.372022</td>\n",
       "      <td>70.256681</td>\n",
       "      <td>27.874403</td>\n",
       "      <td>72.553293</td>\n",
       "      <td>35.521098</td>\n",
       "      <td>41.028074</td>\n",
       "      <td>11.729357</td>\n",
       "    </tr>\n",
       "  </tbody>\n",
       "</table>\n",
       "</div>"
      ],
      "text/plain": [
       "           0          1          2          3          4          5  \\\n",
       "0  55.311537  72.199092  34.653387  45.020731  98.061079  19.693626   \n",
       "1  41.655198  94.595759  85.271834   3.721667  39.182215  19.482104   \n",
       "2  51.612630  43.944377  32.034969  43.148372  79.382224  13.591108   \n",
       "3  13.617198  66.896769   9.388847  42.786934  64.448248  44.719502   \n",
       "4  88.719777  17.939708  16.446073  34.860881  54.073317  57.983609   \n",
       "5  48.077686  84.014828  22.328542  73.314783   2.327353  74.219313   \n",
       "6  61.639381  87.686177  31.429101  53.553661  13.079032  56.349901   \n",
       "7  53.907589  32.704531  71.756819  59.153280  57.574138  73.436083   \n",
       "8  38.863488  72.430353  61.270605  47.439916  57.393008   5.768101   \n",
       "9  88.110313  69.392092   3.724095  93.372022  70.256681  27.874403   \n",
       "\n",
       "           6          7          8          9  \n",
       "0  79.556386  15.851483   9.120077  11.873319  \n",
       "1  47.925810  42.705524  74.317749  49.379342  \n",
       "2  76.532944   2.714075  29.355701   5.565126  \n",
       "3  86.995381  33.677118  10.480610  98.817735  \n",
       "4  42.868794  21.836874  77.556759  46.224948  \n",
       "5  81.621366  72.125239  98.192733  82.536022  \n",
       "6  77.874311  85.150552  68.475268   1.356342  \n",
       "7  85.103661  43.318807  18.635265  66.587202  \n",
       "8  28.736973  65.733154   2.270503  23.140386  \n",
       "9  72.553293  35.521098  41.028074  11.729357  "
      ]
     },
     "execution_count": 24,
     "metadata": {},
     "output_type": "execute_result"
    }
   ],
   "source": [
    "df=pd.DataFrame(new)\n",
    "df"
   ]
  },
  {
   "cell_type": "code",
   "execution_count": null,
   "id": "af9fe62e",
   "metadata": {},
   "outputs": [],
   "source": []
  },
  {
   "cell_type": "code",
   "execution_count": null,
   "id": "b74fc074",
   "metadata": {},
   "outputs": [],
   "source": []
  }
 ],
 "metadata": {
  "kernelspec": {
   "display_name": "Python 3 (ipykernel)",
   "language": "python",
   "name": "python3"
  },
  "language_info": {
   "codemirror_mode": {
    "name": "ipython",
    "version": 3
   },
   "file_extension": ".py",
   "mimetype": "text/x-python",
   "name": "python",
   "nbconvert_exporter": "python",
   "pygments_lexer": "ipython3",
   "version": "3.11.5"
  }
 },
 "nbformat": 4,
 "nbformat_minor": 5
}
