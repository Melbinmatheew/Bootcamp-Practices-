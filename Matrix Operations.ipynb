{
 "cells": [
  {
   "cell_type": "code",
   "execution_count": 2,
   "id": "3e82314e",
   "metadata": {},
   "outputs": [
    {
     "data": {
      "text/plain": [
       "array([1, 2, 3])"
      ]
     },
     "execution_count": 2,
     "metadata": {},
     "output_type": "execute_result"
    }
   ],
   "source": [
    "import numpy as np\n",
    "arr=np.array([1,2,3])\n",
    "arr"
   ]
  },
  {
   "cell_type": "code",
   "execution_count": 5,
   "id": "830c2d26",
   "metadata": {},
   "outputs": [],
   "source": [
    "def create_matrix(rows, cols):\n",
    "    \"\"\"Create a matrix filled with zeros.\"\"\"\n",
    "    return [[0 for _ in range(cols)] for _ in range(rows)]\n",
    "\n",
    "def print_matrix(matrix):\n",
    "    \"\"\"Print the matrix to the console.\"\"\"\n",
    "    for row in matrix:\n",
    "        print(row)\n",
    "\n",
    "def add_matrices(A, B):\n",
    "    \"\"\"Add two matrices element-wise.\"\"\"\n",
    "    result = create_matrix(len(A), len(A[0]))\n",
    "    for i in range(len(A)):\n",
    "        for j in range(len(A[0])):\n",
    "            result[i][j] = A[i][j] + B[i][j]\n",
    "    return result\n",
    "\n",
    "def subtract_matrices(A, B):\n",
    "    \"\"\"Subtract two matrices element-wise.\"\"\"\n",
    "    result = create_matrix(len(A), len(A[0]))\n",
    "    for i in range(len(A)):\n",
    "        for j in range(len(A[0])):\n",
    "            result[i][j] = A[i][j] - B[i][j]\n",
    "    return result\n",
    "\n",
    "def multiply_matrices(A, B):\n",
    "    \"\"\"Multiply two matrices.\"\"\"\n",
    "    rowsA = len(A)\n",
    "    colsA = len(A[0])\n",
    "    rowsB = len(B)\n",
    "    colsB = len(B[0])\n",
    "    \n",
    "    if colsA != rowsB:\n",
    "        raise ValueError(\"Number of A columns must equal number of B rows.\")\n",
    "    \n",
    "    result = create_matrix(rowsA, colsB)\n",
    "    for i in range(rowsA):\n",
    "        for j in range(colsB):\n",
    "            for k in range(colsA):\n",
    "                result[i][j] += A[i][k] * B[k][j]\n",
    "    return result\n",
    "\n",
    "\n",
    "\n",
    "\n",
    "\n"
   ]
  },
  {
   "cell_type": "code",
   "execution_count": 6,
   "id": "ffcda418",
   "metadata": {},
   "outputs": [
    {
     "name": "stdout",
     "output_type": "stream",
     "text": [
      "Matrix A:\n",
      "[1, 2, 3]\n",
      "[4, 5, 6]\n",
      "[1, 2, 3]\n",
      "\n",
      "Matrix B:\n",
      "[7, 8, 9]\n",
      "[10, 11, 12]\n",
      "[7, 8, 9]\n",
      "\n",
      "Sum of A and B:\n",
      "[8, 10, 12]\n",
      "[14, 16, 18]\n",
      "[8, 10, 12]\n",
      "\n",
      "Difference of A and B:\n",
      "[-6, -6, -6]\n",
      "[-6, -6, -6]\n",
      "[-6, -6, -6]\n",
      "\n",
      "Product of A and B:\n",
      "[48, 54, 60]\n",
      "[120, 135, 150]\n",
      "[48, 54, 60]\n"
     ]
    }
   ],
   "source": [
    "A = [[1,  2,  3], [4,  5,  6],[1,2,3]]\n",
    "B = [[7,  8,  9], [10,  11,  12],[7,8,9]]\n",
    "    \n",
    "print(\"Matrix A:\")\n",
    "print_matrix(A)\n",
    "print(\"\\nMatrix B:\")\n",
    "print_matrix(B)\n",
    "\n",
    "print(\"\\nSum of A and B:\")\n",
    "print_matrix(add_matrices(A, B))\n",
    "\n",
    "print(\"\\nDifference of A and B:\")\n",
    "print_matrix(subtract_matrices(A, B))\n",
    "\n",
    "print(\"\\nProduct of A and B:\")\n",
    "print_matrix(multiply_matrices(A, B))\n"
   ]
  },
  {
   "cell_type": "code",
   "execution_count": null,
   "id": "007165c0",
   "metadata": {},
   "outputs": [],
   "source": []
  }
 ],
 "metadata": {
  "kernelspec": {
   "display_name": "Python 3 (ipykernel)",
   "language": "python",
   "name": "python3"
  },
  "language_info": {
   "codemirror_mode": {
    "name": "ipython",
    "version": 3
   },
   "file_extension": ".py",
   "mimetype": "text/x-python",
   "name": "python",
   "nbconvert_exporter": "python",
   "pygments_lexer": "ipython3",
   "version": "3.9.12"
  }
 },
 "nbformat": 4,
 "nbformat_minor": 5
}
