{
 "cells": [
  {
   "cell_type": "markdown",
   "id": "071deac9",
   "metadata": {},
   "source": [
    "Numpy -Numerical Python\n",
    "\n",
    "ndarry-n- dimensional array"
   ]
  },
  {
   "cell_type": "code",
   "execution_count": 1,
   "id": "0c5b5fde",
   "metadata": {},
   "outputs": [],
   "source": [
    "import numpy as np\n",
    "from numpy import random"
   ]
  },
  {
   "cell_type": "code",
   "execution_count": 2,
   "id": "853d058b",
   "metadata": {},
   "outputs": [
    {
     "data": {
      "text/plain": [
       "array([0, 1, 2, 3, 4, 5, 6, 7, 8, 9])"
      ]
     },
     "execution_count": 2,
     "metadata": {},
     "output_type": "execute_result"
    }
   ],
   "source": [
    "np1=np.array([0,1,2,3,4,5,6,7,8,9])\n",
    "np1"
   ]
  },
  {
   "cell_type": "code",
   "execution_count": 3,
   "id": "aa787e46",
   "metadata": {},
   "outputs": [
    {
     "data": {
      "text/plain": [
       "(10,)"
      ]
     },
     "execution_count": 3,
     "metadata": {},
     "output_type": "execute_result"
    }
   ],
   "source": [
    "np1.shape"
   ]
  },
  {
   "cell_type": "code",
   "execution_count": 4,
   "id": "f73e3e00",
   "metadata": {},
   "outputs": [
    {
     "data": {
      "text/plain": [
       "array([0, 1, 2, 3, 4, 5, 6, 7, 8, 9])"
      ]
     },
     "execution_count": 4,
     "metadata": {},
     "output_type": "execute_result"
    }
   ],
   "source": [
    "#Arange\n",
    "np2=np.arange(10)\n",
    "np2"
   ]
  },
  {
   "cell_type": "code",
   "execution_count": 5,
   "id": "02e4863c",
   "metadata": {},
   "outputs": [
    {
     "data": {
      "text/plain": [
       "array([0, 2, 4, 6, 8])"
      ]
     },
     "execution_count": 5,
     "metadata": {},
     "output_type": "execute_result"
    }
   ],
   "source": [
    "#Step\n",
    "np3=np.arange(0,10,2)\n",
    "np3"
   ]
  },
  {
   "cell_type": "code",
   "execution_count": 6,
   "id": "bfef181f",
   "metadata": {},
   "outputs": [
    {
     "data": {
      "text/plain": [
       "array([0., 0., 0., 0., 0., 0., 0., 0., 0., 0.])"
      ]
     },
     "execution_count": 6,
     "metadata": {},
     "output_type": "execute_result"
    }
   ],
   "source": [
    "#Zeros\n",
    "np4=np.zeros(10)\n",
    "np4"
   ]
  },
  {
   "cell_type": "code",
   "execution_count": 7,
   "id": "94be1dc5",
   "metadata": {},
   "outputs": [
    {
     "data": {
      "text/plain": [
       "array([[0., 0., 0., 0., 0., 0., 0., 0., 0., 0.],\n",
       "       [0., 0., 0., 0., 0., 0., 0., 0., 0., 0.]])"
      ]
     },
     "execution_count": 7,
     "metadata": {},
     "output_type": "execute_result"
    }
   ],
   "source": [
    "#Multi-dimensional\n",
    "np5=np.zeros((2,10))\n",
    "np5"
   ]
  },
  {
   "cell_type": "code",
   "execution_count": 8,
   "id": "416c7b1d",
   "metadata": {},
   "outputs": [
    {
     "data": {
      "text/plain": [
       "array([6, 6, 6, 6, 6, 6, 6, 6, 6, 6])"
      ]
     },
     "execution_count": 8,
     "metadata": {},
     "output_type": "execute_result"
    }
   ],
   "source": [
    "#Full\n",
    "np6=np.full((10),6)\n",
    "np6"
   ]
  },
  {
   "cell_type": "code",
   "execution_count": 9,
   "id": "8167dbd3",
   "metadata": {},
   "outputs": [
    {
     "data": {
      "text/plain": [
       "array([[7, 7, 7, 7, 7, 7, 7, 7, 7, 7],\n",
       "       [7, 7, 7, 7, 7, 7, 7, 7, 7, 7]])"
      ]
     },
     "execution_count": 9,
     "metadata": {},
     "output_type": "execute_result"
    }
   ],
   "source": [
    "#Multi-dimensional\n",
    "np7=np.full((2,10),7)\n",
    "np7"
   ]
  },
  {
   "cell_type": "code",
   "execution_count": 10,
   "id": "569cccd9",
   "metadata": {},
   "outputs": [
    {
     "data": {
      "text/plain": [
       "array([1, 2, 3, 4, 5, 6])"
      ]
     },
     "execution_count": 10,
     "metadata": {},
     "output_type": "execute_result"
    }
   ],
   "source": [
    "# Convert python list to np\n",
    "\n",
    "my_list=[1,2,3,4,5,6]\n",
    "np8=np.array(my_list)\n",
    "np8"
   ]
  },
  {
   "cell_type": "code",
   "execution_count": 11,
   "id": "8d0d4ca4",
   "metadata": {},
   "outputs": [
    {
     "data": {
      "text/plain": [
       "array([2, 3, 4, 5])"
      ]
     },
     "execution_count": 11,
     "metadata": {},
     "output_type": "execute_result"
    }
   ],
   "source": [
    "#Slicing Numpy Array\n",
    "   \n",
    "np1=np.array([1,2,3,4,5,6,7,8,9])\n",
    "#Return 2,3,4,5\n",
    "np1[1:5]"
   ]
  },
  {
   "cell_type": "code",
   "execution_count": 12,
   "id": "254b02f2",
   "metadata": {},
   "outputs": [
    {
     "data": {
      "text/plain": [
       "array([1, 2, 3, 4, 5, 6, 7, 8, 9])"
      ]
     },
     "execution_count": 12,
     "metadata": {},
     "output_type": "execute_result"
    }
   ],
   "source": [
    "#Return till the end of the array?\n",
    "\n",
    "np1[:]"
   ]
  },
  {
   "cell_type": "code",
   "execution_count": 13,
   "id": "4e20036a",
   "metadata": {},
   "outputs": [
    {
     "data": {
      "text/plain": [
       "array([7, 8])"
      ]
     },
     "execution_count": 13,
     "metadata": {},
     "output_type": "execute_result"
    }
   ],
   "source": [
    "#Return Negative slicing\n",
    "\n",
    "np1[-3:-1]"
   ]
  },
  {
   "cell_type": "code",
   "execution_count": 14,
   "id": "0d2b8218",
   "metadata": {},
   "outputs": [
    {
     "data": {
      "text/plain": [
       "array([2, 4, 6, 8])"
      ]
     },
     "execution_count": 14,
     "metadata": {},
     "output_type": "execute_result"
    }
   ],
   "source": [
    "#Slicing with Steps\n",
    "\n",
    "np1[1::2]"
   ]
  },
  {
   "cell_type": "code",
   "execution_count": 15,
   "id": "aafe3108",
   "metadata": {},
   "outputs": [
    {
     "data": {
      "text/plain": [
       "array([1, 3, 5, 7, 9])"
      ]
     },
     "execution_count": 15,
     "metadata": {},
     "output_type": "execute_result"
    }
   ],
   "source": [
    "np1[::2]"
   ]
  },
  {
   "cell_type": "code",
   "execution_count": 16,
   "id": "549cf519",
   "metadata": {},
   "outputs": [
    {
     "data": {
      "text/plain": [
       "array([[6, 1, 2, 3, 3, 0, 6, 1, 4, 5],\n",
       "       [9, 2, 6, 0, 5, 8, 2, 9, 3, 4]])"
      ]
     },
     "execution_count": 16,
     "metadata": {},
     "output_type": "execute_result"
    }
   ],
   "source": [
    "#Slice 2-D array\n",
    "random.seed(12)\n",
    "np2=np.random.randint(0,10,size=(2,10))\n",
    "np2"
   ]
  },
  {
   "cell_type": "code",
   "execution_count": 17,
   "id": "e2cea561",
   "metadata": {},
   "outputs": [
    {
     "data": {
      "text/plain": [
       "6"
      ]
     },
     "execution_count": 17,
     "metadata": {},
     "output_type": "execute_result"
    }
   ],
   "source": [
    "np2[1,2]"
   ]
  },
  {
   "cell_type": "code",
   "execution_count": 18,
   "id": "8f94d4eb",
   "metadata": {},
   "outputs": [
    {
     "data": {
      "text/plain": [
       "array([[1, 2]])"
      ]
     },
     "execution_count": 18,
     "metadata": {},
     "output_type": "execute_result"
    }
   ],
   "source": [
    "np2[0:1,1:3]"
   ]
  },
  {
   "cell_type": "code",
   "execution_count": 19,
   "id": "3be3b5ae",
   "metadata": {},
   "outputs": [
    {
     "data": {
      "text/plain": [
       "array([[6, 2, 3, 6, 4],\n",
       "       [9, 6, 5, 2, 3]])"
      ]
     },
     "execution_count": 19,
     "metadata": {},
     "output_type": "execute_result"
    }
   ],
   "source": [
    "np2[:,::2]"
   ]
  },
  {
   "cell_type": "code",
   "execution_count": 20,
   "id": "3dff3035",
   "metadata": {},
   "outputs": [
    {
     "data": {
      "text/plain": [
       "array([[ 4,  2,  1, 19, 19, 17,  7, 14, 10, 14]])"
      ]
     },
     "execution_count": 20,
     "metadata": {},
     "output_type": "execute_result"
    }
   ],
   "source": [
    "np3=np.random.randint(1,20,size=(1,10))\n",
    "np3"
   ]
  },
  {
   "cell_type": "code",
   "execution_count": 21,
   "id": "469faaff",
   "metadata": {},
   "outputs": [
    {
     "data": {
      "text/plain": [
       "array([[2.        , 1.41421356, 1.        , 4.35889894, 4.35889894,\n",
       "        4.12310563, 2.64575131, 3.74165739, 3.16227766, 3.74165739]])"
      ]
     },
     "execution_count": 21,
     "metadata": {},
     "output_type": "execute_result"
    }
   ],
   "source": [
    "#Numpy Universal Functions\n",
    "\n",
    "##Square root of each elements\n",
    "np.sqrt(np3)"
   ]
  },
  {
   "cell_type": "code",
   "execution_count": 22,
   "id": "fefb5acf",
   "metadata": {},
   "outputs": [
    {
     "data": {
      "text/plain": [
       "array([[ 4,  2,  1, 19, 19, 17,  7, 14, 10, 14]])"
      ]
     },
     "execution_count": 22,
     "metadata": {},
     "output_type": "execute_result"
    }
   ],
   "source": [
    "#Absolute Value\n",
    "np.absolute(np3)"
   ]
  },
  {
   "cell_type": "code",
   "execution_count": 23,
   "id": "de079d7d",
   "metadata": {},
   "outputs": [
    {
     "data": {
      "text/plain": [
       "array([[5.45981500e+01, 7.38905610e+00, 2.71828183e+00, 1.78482301e+08,\n",
       "        1.78482301e+08, 2.41549528e+07, 1.09663316e+03, 1.20260428e+06,\n",
       "        2.20264658e+04, 1.20260428e+06]])"
      ]
     },
     "execution_count": 23,
     "metadata": {},
     "output_type": "execute_result"
    }
   ],
   "source": [
    "#Exponents\n",
    "np.exp(np3)"
   ]
  },
  {
   "cell_type": "code",
   "execution_count": 24,
   "id": "bcc9a461",
   "metadata": {},
   "outputs": [
    {
     "name": "stdout",
     "output_type": "stream",
     "text": [
      "1\n",
      "19\n"
     ]
    }
   ],
   "source": [
    "#Min and Max\n",
    "\n",
    "print(np.min(np3))\n",
    "print(np.max(np3))"
   ]
  },
  {
   "cell_type": "code",
   "execution_count": 25,
   "id": "91b2f854",
   "metadata": {},
   "outputs": [
    {
     "name": "stdout",
     "output_type": "stream",
     "text": [
      "[[1 1 1 1 1 1 1 1 1 1]]\n"
     ]
    }
   ],
   "source": [
    "#Sign Positive or Negative\n",
    "\n",
    "print(np.sign(np3))"
   ]
  },
  {
   "cell_type": "code",
   "execution_count": 26,
   "id": "2f50e155",
   "metadata": {},
   "outputs": [
    {
     "name": "stdout",
     "output_type": "stream",
     "text": [
      "[[-0.7568025   0.90929743  0.84147098  0.14987721  0.14987721 -0.96139749\n",
      "   0.6569866   0.99060736 -0.54402111  0.99060736]]\n",
      "[[-0.65364362 -0.41614684  0.54030231  0.98870462  0.98870462 -0.27516334\n",
      "   0.75390225  0.13673722 -0.83907153  0.13673722]]\n",
      "[[1.38629436 0.69314718 0.         2.94443898 2.94443898 2.83321334\n",
      "  1.94591015 2.63905733 2.30258509 2.63905733]]\n"
     ]
    }
   ],
   "source": [
    "#Trig sin cos log\n",
    "\n",
    "print(np.sin(np3))\n",
    "print(np.cos(np3))\n",
    "print(np.log(np3))"
   ]
  },
  {
   "cell_type": "code",
   "execution_count": 27,
   "id": "54eadf1d",
   "metadata": {},
   "outputs": [
    {
     "data": {
      "text/plain": [
       "array([ 5,  8,  9,  3,  3, 10, 10,  4,  7, 14])"
      ]
     },
     "execution_count": 27,
     "metadata": {},
     "output_type": "execute_result"
    }
   ],
   "source": [
    "#Copy vs View\n",
    "random.seed(33)\n",
    "np4=np.random.randint(1,15,size=(10))\n",
    "np4"
   ]
  },
  {
   "cell_type": "code",
   "execution_count": 28,
   "id": "986299ca",
   "metadata": {},
   "outputs": [
    {
     "name": "stdout",
     "output_type": "stream",
     "text": [
      "Original array[ 5  8  9  3  3 10 10  4  7 14]\n",
      "View          [ 5  8  9  3  3 10 10  4  7 14]\n",
      "Original array[ 0  8  9  3  3 10 10  4  7 14]\n",
      "Changed array [ 0  8  9  3  3 10 10  4  7 14]\n"
     ]
    }
   ],
   "source": [
    "#Create a View\n",
    "np5=np4.view()\n",
    "print(f'Original array{np4}')\n",
    "print(f'View          {np5}')\n",
    "np5[0]=0\n",
    "print(f'Original array{np4}')\n",
    "print(f'Changed array {np5}')"
   ]
  },
  {
   "cell_type": "markdown",
   "id": "058da8ea",
   "metadata": {},
   "source": [
    "The main difference between a copy and a view of an array is that the copy is a new array, and the view is just a view of the original array.\n",
    "\n",
    "The copy owns the data and any changes made to the copy will not affect original array, and any changes made to the original array will not affect the copy.\n",
    "\n",
    "The view does not own the data and any changes made to the view will affect the original array, and any changes made to the original array will affect the view."
   ]
  },
  {
   "cell_type": "code",
   "execution_count": 29,
   "id": "00957f0d",
   "metadata": {},
   "outputs": [
    {
     "name": "stdout",
     "output_type": "stream",
     "text": [
      "Original array[ 0  8  9  3  3 10 10  4  7 14]\n",
      "Copy array    [ 0  8  9  3  3 10 10  4  7 14]\n",
      "Original array[ 0  8  9  3  3 10 10  4  7 14]\n",
      "Changed array [33  8  9  3  3 10 10  4  7 14]\n"
     ]
    }
   ],
   "source": [
    "#Create a Copy\n",
    "np6=np4.copy()\n",
    "print(f'Original array{np4}')\n",
    "print(f'Copy array    {np6}')\n",
    "np6[0]=33\n",
    "print(f'Original array{np4}')\n",
    "print(f'Changed array {np6}') "
   ]
  },
  {
   "cell_type": "code",
   "execution_count": 30,
   "id": "89999216",
   "metadata": {},
   "outputs": [
    {
     "name": "stdout",
     "output_type": "stream",
     "text": [
      "[4 4 2 8 7 1 1 7 7 1]\n",
      "(10,)\n"
     ]
    }
   ],
   "source": [
    "#Create 1-D Numpy Array and Get Shape\n",
    "\n",
    "np1=np.random.randint(1,11,size=(10))\n",
    "print(np1)\n",
    "print(np1.shape)\n"
   ]
  },
  {
   "cell_type": "code",
   "execution_count": 31,
   "id": "870f847d",
   "metadata": {},
   "outputs": [
    {
     "name": "stdout",
     "output_type": "stream",
     "text": [
      "[[ 5  9  9  4  8 10]\n",
      " [ 4  4  8  4  8  3]]\n",
      "(2, 6)\n"
     ]
    }
   ],
   "source": [
    "#Create 2-D Numpy Array and Get Shape\n",
    "\n",
    "np2=np.random.randint(1,11,size=(2,6))\n",
    "print(np2)\n",
    "print(np2.shape)"
   ]
  },
  {
   "cell_type": "code",
   "execution_count": 32,
   "id": "53881068",
   "metadata": {},
   "outputs": [
    {
     "name": "stdout",
     "output_type": "stream",
     "text": [
      "[4 4 2 8 7 1 1 7 7 1]\n",
      "Reshape above list to 2,5\n"
     ]
    },
    {
     "data": {
      "text/plain": [
       "array([[4, 4, 2, 8, 7],\n",
       "       [1, 1, 7, 7, 1]])"
      ]
     },
     "execution_count": 32,
     "metadata": {},
     "output_type": "execute_result"
    }
   ],
   "source": [
    "#Reshape 2D\n",
    "print(np1)\n",
    "print(f'Reshape above list to 2,5')\n",
    "np3=np1.reshape(2,5)\n",
    "np3"
   ]
  },
  {
   "cell_type": "code",
   "execution_count": 33,
   "id": "07346446",
   "metadata": {},
   "outputs": [
    {
     "name": "stdout",
     "output_type": "stream",
     "text": [
      "[[ 5  9  9  4  8 10]\n",
      " [ 4  4  8  4  8  3]]\n",
      "[[[ 5  9]\n",
      "  [ 9  4]\n",
      "  [ 8 10]]\n",
      "\n",
      " [[ 4  4]\n",
      "  [ 8  4]\n",
      "  [ 8  3]]]\n"
     ]
    }
   ],
   "source": [
    "#Reshape 3D\n",
    "\n",
    "np4=np2.reshape(2,3,2)\n",
    "print(np2)\n",
    "print(np4)"
   ]
  },
  {
   "cell_type": "code",
   "execution_count": 34,
   "id": "5bf81931",
   "metadata": {},
   "outputs": [
    {
     "data": {
      "text/plain": [
       "array([ 5,  9,  9,  4,  8, 10,  4,  4,  8,  4,  8,  3])"
      ]
     },
     "execution_count": 34,
     "metadata": {},
     "output_type": "execute_result"
    }
   ],
   "source": [
    "#Flatten to 1-D\n",
    "\n",
    "np5=np4.reshape(-1)\n",
    "np5"
   ]
  },
  {
   "cell_type": "code",
   "execution_count": 35,
   "id": "ac1b2ce7",
   "metadata": {},
   "outputs": [
    {
     "data": {
      "text/plain": [
       "array([[82,  4, 23, 27, 33, 49],\n",
       "       [53, 26, 79, 31, 54, 91],\n",
       "       [56, 76, 61,  2, 63, 50]])"
      ]
     },
     "execution_count": 35,
     "metadata": {},
     "output_type": "execute_result"
    }
   ],
   "source": [
    "np6=np.random.randint(1,101,size=(3,6))\n",
    "np6"
   ]
  },
  {
   "cell_type": "code",
   "execution_count": 36,
   "id": "7d436b79",
   "metadata": {},
   "outputs": [
    {
     "name": "stdout",
     "output_type": "stream",
     "text": [
      "82\n",
      "4\n",
      "23\n",
      "27\n",
      "33\n",
      "49\n",
      "53\n",
      "26\n",
      "79\n",
      "31\n",
      "54\n",
      "91\n",
      "56\n",
      "76\n",
      "61\n",
      "2\n",
      "63\n",
      "50\n"
     ]
    }
   ],
   "source": [
    "#iterate array\n",
    "for x in np.nditer(np6):\n",
    "    print(x)"
   ]
  },
  {
   "cell_type": "code",
   "execution_count": 37,
   "id": "4b1f3003",
   "metadata": {},
   "outputs": [
    {
     "name": "stdout",
     "output_type": "stream",
     "text": [
      "[ 5  2 12  2 13  9 11  5  9 13]\n",
      "[ 2  2  5  5  9  9 11 12 13 13]\n"
     ]
    }
   ],
   "source": [
    "#Sort--Nummerical\n",
    "np7=np.random.randint(1,15,size=(10))\n",
    "print(np7)\n",
    "print(np.sort(np7))"
   ]
  },
  {
   "cell_type": "code",
   "execution_count": 38,
   "id": "54f37cea",
   "metadata": {},
   "outputs": [
    {
     "name": "stdout",
     "output_type": "stream",
     "text": [
      "['Melbin' 'Albin' 'Akhil' 'Nevin' 'Jeffin' 'Alan' 'Vinil']\n",
      "['Akhil' 'Alan' 'Albin' 'Jeffin' 'Melbin' 'Nevin' 'Vinil']\n"
     ]
    }
   ],
   "source": [
    "#Sort--Alphabetical\n",
    "\n",
    "np8=np.array(['Melbin','Albin','Akhil','Nevin','Jeffin','Alan','Vinil'])\n",
    "print(np8)\n",
    "print(np.sort(np8))"
   ]
  },
  {
   "cell_type": "code",
   "execution_count": 39,
   "id": "0e0ae2a8",
   "metadata": {},
   "outputs": [
    {
     "name": "stdout",
     "output_type": "stream",
     "text": [
      "[ True False False  True  True False]\n",
      "[False False False  True  True  True]\n"
     ]
    }
   ],
   "source": [
    "#Boolean T/F\n",
    "\n",
    "np9=np.array([True,False,False,True,True,False])\n",
    "print(np9)\n",
    "print(np.sort(np9))"
   ]
  },
  {
   "cell_type": "markdown",
   "id": "ffbb634a",
   "metadata": {},
   "source": [
    "Original doesn't get changed when we sort original array/list\n",
    "\n",
    "It's just returning a copy"
   ]
  },
  {
   "cell_type": "code",
   "execution_count": 40,
   "id": "ba9eff66",
   "metadata": {},
   "outputs": [
    {
     "name": "stdout",
     "output_type": "stream",
     "text": [
      "[[29 22  9  1 26 14]\n",
      " [24 26 23 10  6 11]\n",
      " [28 33 20 33 17 29]]\n",
      "Sorted Array[[ 1  9 14 22 26 29]\n",
      " [ 6 10 11 23 24 26]\n",
      " [17 20 28 29 33 33]]\n"
     ]
    }
   ],
   "source": [
    "#3-D array sort\n",
    "n1=np.random.randint(1,40,size=(3,6))\n",
    "print(n1)\n",
    "print(f'Sorted Array{np.sort(n1)}')"
   ]
  },
  {
   "cell_type": "code",
   "execution_count": 41,
   "id": "4c1165f0",
   "metadata": {},
   "outputs": [
    {
     "name": "stdout",
     "output_type": "stream",
     "text": [
      "[12 28  7  3  4  4 13 23  6 14]\n",
      "[4 5]\n"
     ]
    }
   ],
   "source": [
    "#Search \n",
    "random.seed(12)\n",
    "n2=np.random.randint(1,40,size=(10))\n",
    "print(n2)\n",
    "#print(np.where(n2[4]))\n",
    "#or print(np.where(n2==4))\n",
    "x=np.where(n2==4)\n",
    "print(x[0])"
   ]
  },
  {
   "cell_type": "code",
   "execution_count": 42,
   "id": "70a915f1",
   "metadata": {},
   "outputs": [
    {
     "name": "stdout",
     "output_type": "stream",
     "text": [
      "[12 28  7  3  4  4 13 23  6 14]\n",
      "[0 1 4 5 8 9]\n"
     ]
    }
   ],
   "source": [
    "#Return Even items\n",
    "\n",
    "y=np.where(n2%2==0)\n",
    "print(n2)\n",
    "print(y[0])"
   ]
  },
  {
   "cell_type": "code",
   "execution_count": 43,
   "id": "5498e7a9",
   "metadata": {},
   "outputs": [
    {
     "name": "stdout",
     "output_type": "stream",
     "text": [
      "[12 28  7  3  4  4 13 23  6 14]\n",
      "[2 3 6 7]\n"
     ]
    }
   ],
   "source": [
    "#Return Odd items\n",
    "\n",
    "z=np.where(n2%2!=0)\n",
    "print(n2)\n",
    "print(z[0])"
   ]
  },
  {
   "cell_type": "code",
   "execution_count": 45,
   "id": "99d995b6",
   "metadata": {},
   "outputs": [
    {
     "name": "stdout",
     "output_type": "stream",
     "text": [
      "[1 2 3 4 5 6 7 8 9]\n",
      "[1 3 4 5 9]\n"
     ]
    }
   ],
   "source": [
    "#Filterning Numpy array with Boolean Index Lists\n",
    "n3=np.array([1,2,3,4,5,6,7,8,9])\n",
    "x=[True,False,True,True,True,False,False,False,True]\n",
    "print(n3)\n",
    "print(n3[x])"
   ]
  },
  {
   "cell_type": "code",
   "execution_count": 48,
   "id": "1ccf44ba",
   "metadata": {},
   "outputs": [
    {
     "name": "stdout",
     "output_type": "stream",
     "text": [
      "[1 2 3 4 5 6 7 8 9]\n",
      "[False, False, True, False, False, True, False, False, True]\n",
      "[3 6 9]\n"
     ]
    }
   ],
   "source": [
    "filter=[]\n",
    "for x in n3:\n",
    "    if x %3==0:\n",
    "        filter.append(True)\n",
    "    else:\n",
    "        filter.append(False)\n",
    "\n",
    "print(n3)\n",
    "print(filter)\n",
    "print(n3[filter])"
   ]
  },
  {
   "cell_type": "code",
   "execution_count": 49,
   "id": "aec87212",
   "metadata": {},
   "outputs": [
    {
     "data": {
      "text/plain": [
       "array([[ 76,  28,   7,   3,   4,  68,  77,  49,  23,  50],\n",
       "       [ 53,   6,  14,  90,  35,  76,  75,   1,  77,  14],\n",
       "       [ 83,  90,  36,  63, 101,  36,  34,  31,  64,  97],\n",
       "       [ 19,  87,  51,  81,  85,   7,  74,  46,  31,  33],\n",
       "       [ 28,  60,  90,  60,  89,  80,  26,  98,  57,   5],\n",
       "       [ 97,  69,  66,  45,  38,  76,  69,  54,  76,  54],\n",
       "       [ 48,  61,  97,  43,  71,  71,  68,   3,  29,  75],\n",
       "       [ 59,  60,  85, 100,  55,  56,  85,  98,  21,  30],\n",
       "       [ 70,  52,  44,  33,  44,  19,  71,  92,  35, 101],\n",
       "       [ 54,  59,   1,  38,  21,  81,  68,  88,  58,  55]])"
      ]
     },
     "execution_count": 49,
     "metadata": {},
     "output_type": "execute_result"
    }
   ],
   "source": [
    "random.seed(12)\n",
    "n4=np.random.randint(1,102,size=(10,10))\n",
    "n4"
   ]
  },
  {
   "cell_type": "code",
   "execution_count": 55,
   "id": "2ac6b3c3",
   "metadata": {},
   "outputs": [
    {
     "name": "stdout",
     "output_type": "stream",
     "text": [
      "[[1 0 0 0 0 1 1 0 0 0]\n",
      " [1 0 0 1 0 1 1 0 1 0]\n",
      " [1 1 0 1 1 0 0 0 1 1]\n",
      " [0 1 1 1 1 0 1 0 0 0]\n",
      " [0 1 1 1 1 1 0 1 1 0]\n",
      " [1 1 1 0 0 1 1 1 1 1]\n",
      " [0 1 1 0 1 1 1 0 0 1]\n",
      " [1 1 1 1 1 1 1 1 0 0]\n",
      " [1 1 0 0 0 0 1 1 0 1]\n",
      " [1 1 0 0 0 1 1 1 1 1]]\n"
     ]
    }
   ],
   "source": [
    "n4[n4<=50]=0\n",
    "n4[n4>50]=1\n",
    "print(n4)"
   ]
  },
  {
   "cell_type": "code",
   "execution_count": 58,
   "id": "b32b243f",
   "metadata": {},
   "outputs": [
    {
     "name": "stdout",
     "output_type": "stream",
     "text": [
      "[1 2 3 4 5 6 7 8 9]\n",
      "[False  True False  True False  True False  True False]\n",
      "[2 4 6 8]\n"
     ]
    }
   ],
   "source": [
    "#Shortcut!\n",
    "print(n3)\n",
    "filtered = n3%2 == 0\n",
    "print(filtered)\n",
    "print(n3[filtered])"
   ]
  },
  {
   "cell_type": "code",
   "execution_count": null,
   "id": "22eba689",
   "metadata": {},
   "outputs": [],
   "source": []
  }
 ],
 "metadata": {
  "kernelspec": {
   "display_name": "Python 3 (ipykernel)",
   "language": "python",
   "name": "python3"
  },
  "language_info": {
   "codemirror_mode": {
    "name": "ipython",
    "version": 3
   },
   "file_extension": ".py",
   "mimetype": "text/x-python",
   "name": "python",
   "nbconvert_exporter": "python",
   "pygments_lexer": "ipython3",
   "version": "3.11.5"
  }
 },
 "nbformat": 4,
 "nbformat_minor": 5
}
