{
 "cells": [
  {
   "cell_type": "code",
   "execution_count": 1,
   "id": "ef9def4c",
   "metadata": {},
   "outputs": [],
   "source": [
    "#Addition"
   ]
  },
  {
   "cell_type": "code",
   "execution_count": 2,
   "id": "ab0588b3",
   "metadata": {},
   "outputs": [
    {
     "name": "stdout",
     "output_type": "stream",
     "text": [
      "Enter the row number:2\n",
      "Enter the column number:2\n",
      "Enter the elements for matrix:\n",
      "1\n",
      "2\n",
      "3\n",
      "4\n",
      "Matrix 1\n",
      "1 2 \n",
      "3 4 \n",
      "6\n",
      "7\n",
      "8\n",
      "9\n",
      "Matrix 2\n",
      "6 7 \n",
      "8 9 \n",
      "Result:\n",
      "7 9 \n",
      "11 13 \n"
     ]
    }
   ],
   "source": [
    "row=int (input(\"Enter the row number:\"))\n",
    "col=int(input(\"Enter the column number:\"))\n",
    "\n",
    "print(\"Enter the elements for matrix:\")\n",
    "matrix1=[[int(input()) for i in range(col)] for j in range(row)]\n",
    "print(\"Matrix 1\")\n",
    "\n",
    "for i in range(row):\n",
    "    for j in range(col):\n",
    "        print(matrix1[i][j], end=\" \")\n",
    "    print()\n",
    "\n",
    "matrix2=[[int(input()) for i in range(col)] for j in range(row)]\n",
    "print(\"Matrix 2\")\n",
    "for i in range(row):\n",
    "    for j in range(col):\n",
    "        print(matrix2[i][j],end=\" \")\n",
    "    print()\n",
    "    \n",
    "result=[[0 for i in range(col)] for j in range(row)]\n",
    "\n",
    "for i in range(len(matrix1)):\n",
    "    for j in range(len(matrix1[0])):\n",
    "        result[i][j]=matrix1[i][j] + matrix2[i][j]\n",
    "\n",
    "print(\"Result:\")\n",
    "for i in range(row):\n",
    "    for j in range(col):\n",
    "        print(result[i][j],end=\" \")\n",
    "    print()"
   ]
  },
  {
   "cell_type": "code",
   "execution_count": 3,
   "id": "64fc5552",
   "metadata": {},
   "outputs": [],
   "source": [
    "#Substratioin"
   ]
  },
  {
   "cell_type": "code",
   "execution_count": 8,
   "id": "48f4cd6b",
   "metadata": {},
   "outputs": [
    {
     "name": "stdout",
     "output_type": "stream",
     "text": [
      "Enter number of rows:2\n",
      "Enter nnumber of columns:2\n",
      "Enter the elements:\n",
      "1\n",
      "2\n",
      "3\n",
      "4\n",
      "Matrix A\n",
      "1 2 \n",
      "3 4 \n",
      "1\n",
      "2\n",
      "3\n",
      "4\n",
      "Matrix B\n",
      "1 2 \n",
      "3 4 \n",
      "Result:\n",
      "0 0 \n",
      "0 0 \n"
     ]
    }
   ],
   "source": [
    "row =int(input(\"Enter number of rows:\"))\n",
    "col=int(input(\"Enter nnumber of columns:\"))\n",
    "\n",
    "print(\"Enter the elements:\")\n",
    "\n",
    "matrix3=[[int(input()) for i in range(col)] for j in range(row)]\n",
    "print(\"Matrix A\")\n",
    "for i in range(row):\n",
    "    for j in range(col):\n",
    "        print(matrix3[i][j],end=\" \")\n",
    "    print()\n",
    "    \n",
    "matrix4=[[int(input()) for i in range(col)] for j in range(row)]\n",
    "\n",
    "print(\"Matrix B\")\n",
    "\n",
    "for i in range(row):\n",
    "    for j in range(col):\n",
    "        print(matrix4[i][j],end=\" \")\n",
    "    print()\n",
    "    \n",
    "result=[[0 for i in range(col)] for j in range(row)]\n",
    "\n",
    "for i in range(len(matrix3)):\n",
    "    for j in range(len(matrix3[0])):\n",
    "        result[i][j]=matrix3[i][j] - matrix4[i][j]\n",
    "\n",
    "print(\"Result:\")\n",
    "for i in range(row):\n",
    "    for j in range(col):\n",
    "        print(result[i][j],end=\" \")\n",
    "    print()"
   ]
  },
  {
   "cell_type": "code",
   "execution_count": null,
   "id": "81b28dc9",
   "metadata": {},
   "outputs": [],
   "source": [
    "#Multipication"
   ]
  },
  {
   "cell_type": "code",
   "execution_count": 10,
   "id": "afcf6c42",
   "metadata": {},
   "outputs": [
    {
     "name": "stdout",
     "output_type": "stream",
     "text": [
      "Enter the ROW number fro Matrix 1:2\n",
      "Enter the COLUMN number for Matrix 2:2\n",
      "Enter the COLUMN number for Matrix 1 or ROW number for Matrix 2:2\n",
      "Enter element for Matrix 1:\n",
      "1\n",
      "2\n",
      "3\n",
      "4\n",
      "Matrix 1\n",
      "1 2 \n",
      "3 4 \n",
      "Enter element for Matrix 2:\n",
      "1\n",
      "2\n",
      "3\n",
      "4\n",
      "Matrix 2\n",
      "1 2 \n",
      "3 4 \n",
      "Result:\n",
      "7 10 \n",
      "15 22 \n"
     ]
    }
   ],
   "source": [
    "p=int(input(\"Enter the ROW number fro Matrix 1:\"))\n",
    "q=int(input(\"Enter the COLUMN number for Matrix 2:\"))\n",
    "n=int(input(\"Enter the COLUMN number for Matrix 1 or ROW number for Matrix 2:\"))\n",
    "\n",
    "print(\"Enter element for Matrix 1:\")\n",
    "matrix1=[[int(input()) for i in range(n)] for j in range(p)]\n",
    "print(\"Matrix 1\")\n",
    "for i in range(p):\n",
    "    for j in range(n):\n",
    "        print(matrix1[i][j],end=\" \")\n",
    "    print()\n",
    "print(\"Enter element for Matrix 2:\")\n",
    "matrix2=[[int(input()) for i in range(q)] for j in range(n)]\n",
    "print(\"Matrix 2\")\n",
    "for i in range(n):\n",
    "    for j in range(q):\n",
    "        print(matrix2[i][j],end=\" \")\n",
    "    print()\n",
    "result=[[0 for i in range(q)] for j in range(p)]\n",
    "for i in range(p):\n",
    "    for j in range(q):\n",
    "        for k in range(n):\n",
    "            result[i][j]=result[i][j] + matrix1[i][k] * matrix2[k][j]\n",
    "\n",
    "print(\"Result:\")\n",
    "\n",
    "for i in range(p):\n",
    "    for j in range(q):\n",
    "        print(result[i][j],end=\" \")\n",
    "    print()"
   ]
  },
  {
   "cell_type": "code",
   "execution_count": 1,
   "id": "3fe0e2b0",
   "metadata": {},
   "outputs": [
    {
     "name": "stdout",
     "output_type": "stream",
     "text": [
      "Matrix multiplication result:\n",
      "[[ 30  24  18]\n",
      " [ 84  69  54]\n",
      " [138 114  90]]\n",
      "\n",
      "Dot product result:\n",
      "165\n"
     ]
    }
   ],
   "source": [
    "import numpy as np\n",
    "\n",
    "# Define the matrices A and B\n",
    "A = np.array([[1, 2, 3],\n",
    "              [4, 5, 6],\n",
    "              [7, 8, 9]])\n",
    "\n",
    "B = np.array([[9, 8, 7],\n",
    "              [6, 5, 4],\n",
    "              [3, 2, 1]])\n",
    "\n",
    "# Perform matrix multiplication\n",
    "matrix_product = np.dot(A, B)\n",
    "\n",
    "# Perform dot product (flatten both matrices and then take the dot product)\n",
    "dot_product = np.dot(A.flatten(), B.flatten())\n",
    "\n",
    "print(\"Matrix multiplication result:\")\n",
    "print(matrix_product)\n",
    "\n",
    "print(\"\\nDot product result:\")\n",
    "print(dot_product)\n"
   ]
  },
  {
   "cell_type": "code",
   "execution_count": 3,
   "id": "5b61772c",
   "metadata": {},
   "outputs": [
    {
     "data": {
      "text/plain": [
       "0    1.0\n",
       "1    3.0\n",
       "2    5.0\n",
       "3    NaN\n",
       "4    6.0\n",
       "5    8.0\n",
       "dtype: float64"
      ]
     },
     "execution_count": 3,
     "metadata": {},
     "output_type": "execute_result"
    }
   ],
   "source": [
    "import pandas as pd\n",
    "import numpy as np\n",
    "pd.Series([1, 3, 5, np.nan, 6, 8])"
   ]
  },
  {
   "cell_type": "code",
   "execution_count": null,
   "id": "b54cd09d",
   "metadata": {},
   "outputs": [],
   "source": []
  }
 ],
 "metadata": {
  "kernelspec": {
   "display_name": "Python 3 (ipykernel)",
   "language": "python",
   "name": "python3"
  },
  "language_info": {
   "codemirror_mode": {
    "name": "ipython",
    "version": 3
   },
   "file_extension": ".py",
   "mimetype": "text/x-python",
   "name": "python",
   "nbconvert_exporter": "python",
   "pygments_lexer": "ipython3",
   "version": "3.11.5"
  }
 },
 "nbformat": 4,
 "nbformat_minor": 5
}
